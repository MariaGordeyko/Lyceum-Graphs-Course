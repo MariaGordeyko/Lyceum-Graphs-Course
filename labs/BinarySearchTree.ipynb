{
 "cells": [
  {
   "cell_type": "markdown",
   "metadata": {},
   "source": [
    "# Реализация бинарного дерева поиска\n",
    "\n",
    "\n",
    "_Про бинарное дерево смотреть тетрадку:_ [__BinaryTrees__](https://github.com/nasoboleva/Lyceum-Graphs-Course/blob/master/labs/BinaryTrees.ipynb)\n",
    "\n",
    "### Класс вершины дерева\n",
    "\n",
    "Простейшая вершина бинарного дерева должна обладать следующими свойствами:\n",
    "\n",
    "1. В вершине хранится информация об объекте, который эта вершина содержит\n",
    "2. В вершине хранится информация об ее потомках (левом и правом).\n",
    "\n",
    "\n",
    "#### Реализуем класс вершины дерева"
   ]
  },
  {
   "cell_type": "code",
   "execution_count": 1,
   "metadata": {},
   "outputs": [],
   "source": [
    "class TreeNode(object):\n",
    "    \"\"\"\n",
    "    Tree node: left and right child + data which can be any object\n",
    "    \"\"\"\n",
    "    def __init__(self, key):\n",
    "        self.key = key\n",
    "        self.left = None\n",
    "        self.right = None"
   ]
  },
  {
   "cell_type": "markdown",
   "metadata": {},
   "source": [
    "##  Бинарное дерево поиска\n",
    "\n",
    "Бинарные деревья поиска полагаются то, что ключи меньше родительского находятся в левом поддереве, а больше - в правом. Мы будем называть это bst-свойством (от англ. binary search tree - прим. переводчика).\n",
    "\n",
    "Анимация снизу иллюстрирует это свойство бинарных деревьев поиска, показывая ключи без ассоциированных с ними значений. Обратите внимание: им обладают и узлы-потомки, и узлы-предки. Все ключи в левых поддеревьях меньше ключа корня, а в правых - больше его.\n",
    "\n",
    "![](http://www.mathwarehouse.com/programming/images/binary-search-tree/binary-search-tree-sorted-array-animation.gif)\n",
    "\n",
    "Простейшое бинарное дерево поиска должна обладать следующими свойствами:\n",
    "\n",
    "\n",
    "1. Левое поддерево вершины содержит только вершины, значения которых меньше значения текущей вершины.\n",
    "2. Правое поддерево вершины содержит только вершины, значения которых больше значения текущей вершины.\n",
    "3. Оба поддерева являются бинарными деревьями поиска.\n",
    "\n",
    "\n",
    "\n",
    "#### Реализуем класс бинарного дерева поиска\n"
   ]
  },
  {
   "cell_type": "code",
   "execution_count": 2,
   "metadata": {},
   "outputs": [],
   "source": [
    "class BinarySearchTree:\n",
    "    \n",
    "    def __init__(self):\n",
    "        self.root = None\n",
    "        self.size = 0\n",
    "\n",
    "    def length(self):\n",
    "        return int(self.size)"
   ]
  },
  {
   "cell_type": "markdown",
   "metadata": {},
   "source": [
    "### Построение дерева. Добавление новых элементов. \n",
    "\n",
    "Предположим, что у нас уже есть бинарное дерево поиска. Для того, чтобы вставить в имеющееся дерево новую вершину, не нарушив при этом структуру, необходимо найти позицию для нового элемента, которая бы удовлетворяла всем неравенствам.\n",
    "\n",
    "![](http://aliev.me/runestone/_images/bstput.png)\n",
    "\n",
    "Рисунок иллюстрирует процесс вставки нового узла в двоичное дерево поиска. Слегка затенённые узлы - это те, что были посещены в процессе вставки.\n",
    "\n",
    "1. Корень дерева имеет значение - 17.\n",
    "2. Вставляемое значение 19 > 17 $\\Rightarrow$ идем в правого потомка корневой вершины.\n",
    "3. Текущее значения вершины - 35.\n",
    "4. Вставляемое значение 19 < 35 $\\Rightarrow$ идем в левого потомка корневой вершины.\n",
    "5. Текущее значения вершины - 29.\n",
    "4. Вставляемое значение 19 < 29 $\\Rightarrow$ идем в левого потомка корневой вершины.\n",
    "6. Левого потомка не существует - `None` $\\Rightarrow$ нашли позицию для вставляемой вершины.\n",
    "7. Добавляем соответвующую вершину, изменяем указатель на левого потомка `left` вершины 29 на вершину 19.\n",
    "\n",
    "\n",
    "Будем спускаться посредством цикла по дереву, начиная от корня, в поисках места для вставки. \n",
    "\n",
    "__Дополнение:__ _Чтобы, найдя пустое место, иметь возможность заменить его на новую вершину, в коде кроме ссылки на текущую вершину $v$ мы поддерживаем ссылку на вершину-предка в переменной_ `parent`.\n",
    "\n",
    "Если вставляемый ключ меньше текущего, идём влево; если больше, то идём вправо; если равен, то останавливаемся и выходим: ключ уже есть в дереве и вставлять не нужно. Когда переменная $v$ примет нулевое значение `None`, место для вставки найдено. \n",
    "\n",
    "Создаём новую вершину и в предке `parent` исправляем ссылку `left` или `right` в зависимости от того, влево или вправо мы двигались из `parent` до того, как попали в `None`. \n",
    "\n",
    "\n",
    "Отдельный случай — когда дерево изначально было пусто, тогда нужно обновить переменную `root` (создан новый корень).\n",
    "\n",
    "#### Нерекурсивная реализация"
   ]
  },
  {
   "cell_type": "code",
   "execution_count": 5,
   "metadata": {},
   "outputs": [],
   "source": [
    "def naive_insert(tree, new_value):\n",
    "    parent = None\n",
    "    v = tree.root\n",
    "    while v is not None:\n",
    "        parent = v\n",
    "        \n",
    "        !YOUR CODE HERE:\n",
    "        # go left if new_value is lesser than current v value\n",
    "        # go right if new_value is bigger than current v value\n",
    "        # and return if value is already in the tree\n",
    " \n",
    "    new_node = TreeNode(new_value)\n",
    "    # don't forget to increase size of your tree\n",
    " \n",
    "    if parent is None:\n",
    "        tree.root = new_node\n",
    "        \n",
    "    !YOUR CODE HERE\n",
    "    # if parent != None, change its left or its right child to new_node"
   ]
  },
  {
   "cell_type": "code",
   "execution_count": 6,
   "metadata": {},
   "outputs": [
    {
     "name": "stdout",
     "output_type": "stream",
     "text": [
      "Looks OK!\n"
     ]
    }
   ],
   "source": [
    "tree = BinarySearchTree()\n",
    "naive_insert(tree, 5)\n",
    "assert (tree.length() == 1),\"Something is teribly wrong with the size\"\n",
    "naive_insert(tree, 10)\n",
    "naive_insert(tree, 4)\n",
    "naive_insert(tree, 3)\n",
    "assert (tree.length() == 4),\"Something is teribly wrong with the size\"\n",
    "assert (tree.root.right.key == 10 and tree.root.left.key == 4), \"Order is incorrect\"\n",
    "assert (tree.root.left.left.key == 3), \"Order is incorrect\"\n",
    "print(\"Looks OK!\")"
   ]
  },
  {
   "cell_type": "markdown",
   "metadata": {},
   "source": [
    "Теперь вспомним, что мы определяли бинарное дерево поиска некоторым рекурсивным правилом. \n",
    "\n",
    "Используя рекурсию, операцию вставки часто реализуют так:\n",
    "\n",
    "Создаётся функция, параметрами которой являются корень поддерева (возможно `None`) и ключ, который нужно добавить. Функция осуществляет вставку ключа в поддерево и возвращает корень поддерева после вставки (корень мог поменяться в единственном случае: поддерево изначально не существовало и была создана новая вершина, которая становится корнем; иначе функция просто возвращает тот же корень, который был ей передан).\n",
    "\n",
    "#### Рекурсивная реализация"
   ]
  },
  {
   "cell_type": "code",
   "execution_count": 7,
   "metadata": {},
   "outputs": [],
   "source": [
    "def insert(subtree, new_value):\n",
    "    if subtree is None:\n",
    "        return TreeNode(new_value)\n",
    "    if new_value < subtree.key:\n",
    "        subtree.left = insert(subtree.left, new_value)\n",
    "    elif new_value > subtree.key:\n",
    "        subtree.right = insert(subtree.right, new_value)\n",
    "    # subtree.key == new_value\n",
    "    return subtree"
   ]
  },
  {
   "cell_type": "markdown",
   "metadata": {},
   "source": [
    "### Попробуем построить дерево\n",
    "\n",
    "Ниже функция рисования графа. Не обязательно, но симпатично."
   ]
  },
  {
   "cell_type": "code",
   "execution_count": 8,
   "metadata": {},
   "outputs": [],
   "source": [
    "from visualizer import draw_search_tree\n",
    "%matplotlib inline"
   ]
  },
  {
   "cell_type": "markdown",
   "metadata": {},
   "source": [
    "Добавим несколько вершин в дерево."
   ]
  },
  {
   "cell_type": "code",
   "execution_count": 9,
   "metadata": {},
   "outputs": [],
   "source": [
    "tree = BinarySearchTree()\n",
    "\n",
    "tree.root = insert(tree.root, 5)"
   ]
  },
  {
   "cell_type": "code",
   "execution_count": 10,
   "metadata": {},
   "outputs": [
    {
     "data": {
      "text/plain": [
       "5"
      ]
     },
     "execution_count": 10,
     "metadata": {},
     "output_type": "execute_result"
    }
   ],
   "source": [
    "tree.root.key"
   ]
  },
  {
   "cell_type": "code",
   "execution_count": 11,
   "metadata": {},
   "outputs": [],
   "source": [
    "tree.root = insert(tree.root, 10)\n",
    "tree.root = insert(tree.root, 1)\n",
    "tree.root = insert(tree.root, 3)\n",
    "tree.root = insert(tree.root, 4)\n",
    "tree.root = insert(tree.root, 20)\n",
    "tree.root = insert(tree.root, 9)\n",
    "tree.root = insert(tree.root, 0)"
   ]
  },
  {
   "cell_type": "code",
   "execution_count": 12,
   "metadata": {},
   "outputs": [
    {
     "data": {
      "image/png": "[encoded data removed]",
      "text/plain": [
       "<matplotlib.figure.Figure at 0x10405f5c0>"
      ]
     },
     "metadata": {},
     "output_type": "display_data"
    }
   ],
   "source": [
    "draw_search_tree(tree.root, 'first')"
   ]
  },
  {
   "cell_type": "markdown",
   "metadata": {},
   "source": [
    "### Поиск ключа в дереве\n",
    "\n",
    "Ранее упоминалось, что дерево - структура, в которой удобно хранить данные структурированно. От такой структуры данных нам прежде всего необходимо иметь возможность найти любой элемент по его значению.\n",
    "\n",
    "![](https://neerc.ifmo.ru/wiki/images/e/e6/Bst_search.png)\n",
    "\n",
    "Создаётся функция, которая принимает на вход корень некоторого поддерева (возможно, этот корень нулевой, то есть поддерева не существует) и ключ, который нужно найти. Функция возвращает ссылку на найденную вершину или `None`, если ключа нет. Алгоритм похож на процесс добавления элемента в дерево, мы так же спускаемся, сравнивая искомое значение с значением вершины, пока не найдем вершину с совпадающим значением.\n",
    "\n",
    "#### Нерекурсивная реализация"
   ]
  },
  {
   "cell_type": "code",
   "execution_count": 13,
   "metadata": {},
   "outputs": [],
   "source": [
    "def naive_search(tree, value):\n",
    "    v = tree.root\n",
    "    while v is not None:\n",
    "        !YOUR CODE HERE:\n",
    "        # go left if new_value is lesser than current v value\n",
    "        # go right if new_value is bigger than current v value\n",
    "        # and return vertex if you found the value\n",
    "\n",
    "    return None"
   ]
  },
  {
   "cell_type": "code",
   "execution_count": 14,
   "metadata": {},
   "outputs": [
    {
     "name": "stdout",
     "output_type": "stream",
     "text": [
      "Looks OK!\n"
     ]
    }
   ],
   "source": [
    "tree = BinarySearchTree()\n",
    "naive_insert(tree, 5)\n",
    "naive_insert(tree, 10)\n",
    "naive_insert(tree, 4)\n",
    "naive_insert(tree, 3)\n",
    "vertex = naive_search(tree, 4)\n",
    "assert (vertex is not None), \"returned None, but the vertex exists there somewhere, check it\"\n",
    "assert (vertex.key == 4 and vertex.left.key == 3 and vertex.right is None), \"found wrong vertex, check it\"\n",
    "vertex = naive_search(tree, 1)\n",
    "assert (vertex is None), \"there is no vertex in your tree, return None, please\"\n",
    "print(\"Looks OK!\")"
   ]
  },
  {
   "cell_type": "markdown",
   "metadata": {},
   "source": [
    "Этот же алгоритм можно реализовать рекурсивно.\n",
    "#### Рекурсивная реализация"
   ]
  },
  {
   "cell_type": "code",
   "execution_count": 15,
   "metadata": {},
   "outputs": [],
   "source": [
    "def search(subtree, value):\n",
    "    if subtree is None or subtree.key == value:\n",
    "        return subtree\n",
    "    elif value < subtree.key:\n",
    "        return search(subtree.left, value)\n",
    "    else:  # value > subtree.key\n",
    "        return search(subtree.right, value)"
   ]
  },
  {
   "cell_type": "markdown",
   "metadata": {},
   "source": [
    "Попробуем найти какой-нибудь элемент в дереве."
   ]
  },
  {
   "cell_type": "code",
   "execution_count": 17,
   "metadata": {},
   "outputs": [
    {
     "name": "stdout",
     "output_type": "stream",
     "text": [
      "Vertex with value=9 <__main__.TreeNode object at 0x105a6f748>\n",
      "Vertex with value=11 None\n"
     ]
    }
   ],
   "source": [
    "tree = BinarySearchTree()\n",
    "\n",
    "tree.root = insert(tree.root, 5)\n",
    "tree.root = insert(tree.root, 10)\n",
    "tree.root = insert(tree.root, 1)\n",
    "tree.root = insert(tree.root, 3)\n",
    "tree.root = insert(tree.root, 4)\n",
    "tree.root = insert(tree.root, 20)\n",
    "tree.root = insert(tree.root, 9)\n",
    "tree.root = insert(tree.root, 0)\n",
    "\n",
    "print('Vertex with value=9', search(tree.root, 9))\n",
    "print('Vertex with value=11', search(tree.root, 11))"
   ]
  },
  {
   "cell_type": "markdown",
   "metadata": {},
   "source": [
    "### Удаление элементов из дерева\n",
    "\n",
    "Мы научились добавлять новые элементы в дерево, но так же нам важно иметь возможность удалить тот или иной элемент из дерева.\n",
    "\n",
    "![](http://www.zentut.com/wp-content/uploads/2013/04/bst-remove-node-with-2-children.png)\n",
    "\n",
    "\n",
    "Для начала определим вспомогательную функцию, которая у вершины `parent` заменит вершину-сына `old` на вершину `new` (если в качестве `parent` будет передано значение `None`, то заменён будет корень всего дерева):"
   ]
  },
  {
   "cell_type": "code",
   "execution_count": 18,
   "metadata": {},
   "outputs": [],
   "source": [
    "def replace_child(parent, old, new):\n",
    "    if parent is None:\n",
    "        tree.root = new\n",
    "    elif parent.left == old:\n",
    "        parent.left = new\n",
    "    elif parent.right == old:\n",
    "        parent.right = new"
   ]
  },
  {
   "cell_type": "markdown",
   "metadata": {},
   "source": [
    "Для того, чтобы удалить вершину с ключом `value`, надо найти верштину с ключом `value`.\n",
    "\n",
    "Для поиска вершины с ключом `value` можно было бы воспользоваться ранее разработанной функцией поиска, но она потребовала бы доработки: для удаления нужно знать не только ссылку на саму вершину `vertex` с ключом `value`, но и ссылку на её предка `parent`. Поэтому для понятности мы реализуем поиск ещё раз.\n",
    "\n",
    "Когда мы ищем вершину с наименьшим ключом в правом поддереве, мы также вынуждены поддерживать при спуске ссылку на предка, чтобы потом иметь возможность эту вершину удобно удалить. \n",
    "\n",
    "Сначала проверяется число потомков вершины `vertex`. Если левое и/или правое поддерево отсутствует, это простой случай. Иначе, когда есть оба поддерева, действия отличаются в зависимости от того, выполняется удаление левое или правое. Рассмотрим случай правого удаления. В цикле ищем вершину с наименьшим ключом `min_node` в правом поддереве вершины `vertex`(вершина `min_node_parent` является предком вершины `min_node`).\n",
    "\n",
    "#### Нерекурсивная реализация"
   ]
  },
  {
   "cell_type": "code",
   "execution_count": 19,
   "metadata": {},
   "outputs": [],
   "source": [
    "def naive_delete(tree, value):\n",
    "    parent = None\n",
    "    vertex = tree.root\n",
    " \n",
    "    while True:\n",
    "        if vertex is None:\n",
    "            return\n",
    "        \n",
    "        !YOUR CODE HERE\n",
    "        # find value as in search function, remember its parent meanwhile\n",
    "        # if found break\n",
    " \n",
    "    result = None\n",
    "    #don't forget to decrease size of your tree\n",
    " \n",
    "    if vertex.left is None:\n",
    "        result = vertex.right\n",
    "    elif vertex.right is None:\n",
    "        result = vertex.left\n",
    "    else:\n",
    "        min_node_parent = vertex\n",
    "        min_node = vertex.right\n",
    "        !YOUR CODE HERE\n",
    "        # go left while left is not None find min_node and its parent\n",
    " \n",
    "        result = vertex\n",
    "        vertex.key = min_node.key\n",
    "        replace_child(min_node_parent, min_node, min_node.right)\n",
    " \n",
    "    replace_child(parent, vertex, result)"
   ]
  },
  {
   "cell_type": "code",
   "execution_count": 20,
   "metadata": {},
   "outputs": [
    {
     "name": "stdout",
     "output_type": "stream",
     "text": [
      "Looks OK!\n"
     ]
    }
   ],
   "source": [
    "tree = BinarySearchTree()\n",
    "naive_insert(tree, 5)\n",
    "naive_insert(tree, 10)\n",
    "naive_insert(tree, 4)\n",
    "naive_insert(tree, 3)\n",
    "\n",
    "naive_delete(tree, 4)\n",
    "assert (tree.length() == 3),\"Something is teribly wrong with the size\"\n",
    "assert (tree.root.left.key == 3), \"The replacement is wrong, check it\"\n",
    "print(\"Looks OK!\")"
   ]
  },
  {
   "cell_type": "markdown",
   "metadata": {},
   "source": [
    "При помощи рекурсии удаление из дерева вершины с заданным ключом обычно осуществляется так. Реализуется функция (будем называть её `delete`), которая принимает на вход вершину `vertex` и ключ `value`. Функция выполняет удаление вершины с ключом `value` в поддереве с корнем `vertex`, если такой ключ там есть. Функция возвращает новый корень поддерева после удаления (корень `vertex` может поменяться, если он сам окажется удалён).\n",
    "\n",
    "В коде функции вначале делаются проверки ключа и выполняется спуск по дереву в поисках `value` (если меньше — идём влево, если больше — идём вправо). Когда функция `delete` оказывается вызванной для вершины `vertex` с ключом `value`, мы переходим непосредственно к удалению. \n",
    "\n",
    "Сначала проверяется число потомков вершины `vertex`. Если левое и/или правое поддерево отсутствует, это простой случай. Иначе, когда есть оба поддерева, действия отличаются в зависимости от того, выполняется удаление левое или правое. Рассмотрим случай правого удаления. Вызывается вспомогательная функция `find_min()`, которая ищет вершину с наименьшим ключом `min_key` в правом поддереве вершины `vertex`. Затем ключ в вершине `vertex` заменяется на найденный наименьший ключ `min_key`, а исходная вершина с ключом `min_key` удаляется через новый вызов функции `delete`.\n",
    "\n",
    "#### Рекурсивная реализация"
   ]
  },
  {
   "cell_type": "code",
   "execution_count": 21,
   "metadata": {},
   "outputs": [],
   "source": [
    "def find_min(vertex):\n",
    "    if vertex.left is not None:\n",
    "        return find_min(vertex.left)\n",
    "    else:\n",
    "        return vertex"
   ]
  },
  {
   "cell_type": "code",
   "execution_count": 22,
   "metadata": {},
   "outputs": [],
   "source": [
    "def delete(vertex, value):\n",
    "    if vertex is None:\n",
    "        return None\n",
    " \n",
    "    if value < vertex.key:\n",
    "        vertex.left = delete(vertex.left, value)\n",
    "        return vertex\n",
    "    elif value > vertex.key:\n",
    "        vertex.right = delete(vertex.right, value)\n",
    "        return vertex\n",
    " \n",
    "    # vertex.key == value\n",
    "    if vertex.left is None:\n",
    "        return vertex.right\n",
    "    elif vertex.right is None:\n",
    "        return vertex.left\n",
    "    else:\n",
    "        # both subtrees are present\n",
    "        min_key = find_min(vertex.right).key\n",
    "        vertex.key = min_key\n",
    "        vertex.right = delete(vertex.right, min_key)\n",
    "        return vertex"
   ]
  },
  {
   "cell_type": "markdown",
   "metadata": {},
   "source": [
    "Функцию нужно вызывать из корня дерева и при этом присваивать корню возвращаемое значение:"
   ]
  },
  {
   "cell_type": "code",
   "execution_count": 23,
   "metadata": {},
   "outputs": [
    {
     "data": {
      "image/png": "[encoded data removed]",
      "text/plain": [
       "<matplotlib.figure.Figure at 0x105ac5fd0>"
      ]
     },
     "metadata": {},
     "output_type": "display_data"
    }
   ],
   "source": [
    "tree = BinarySearchTree()\n",
    "\n",
    "tree.root = insert(tree.root, 5)\n",
    "tree.root = insert(tree.root, 10)\n",
    "tree.root = insert(tree.root, 1)\n",
    "tree.root = insert(tree.root, 3)\n",
    "tree.root = insert(tree.root, 4)\n",
    "tree.root = insert(tree.root, 20)\n",
    "tree.root = insert(tree.root, 9)\n",
    "tree.root = insert(tree.root, 0)\n",
    "draw_search_tree(tree.root, 'second')\n",
    "\n",
    "\n",
    "tree.root = delete(tree.root, 10)\n",
    "tree.root = delete(tree.root, 1)"
   ]
  },
  {
   "cell_type": "code",
   "execution_count": 24,
   "metadata": {},
   "outputs": [
    {
     "data": {
      "text/plain": [
       "3"
      ]
     },
     "execution_count": 24,
     "metadata": {},
     "output_type": "execute_result"
    }
   ],
   "source": [
    "tree.root.left.key"
   ]
  },
  {
   "cell_type": "code",
   "execution_count": 25,
   "metadata": {},
   "outputs": [
    {
     "data": {
      "image/png": "[encoded data removed]",
      "text/plain": [
       "<matplotlib.figure.Figure at 0x104457b00>"
      ]
     },
     "metadata": {},
     "output_type": "display_data"
    }
   ],
   "source": [
    "draw_search_tree(tree.root, 'third')"
   ]
  },
  {
   "cell_type": "markdown",
   "metadata": {},
   "source": [
    "# Домашнее задание\n",
    "\n",
    "Чаще всего от такой структуры данных, как бинарное дерево поиска так же требуется удобный способ получения элемента с минимальным/максимальным значением ключа. \n",
    "\n",
    "### Задание 1 (1 балл)\n",
    "\n",
    "Реализуйте функцию, которая возвращает елемент с минимальным ключом в дереве. \n",
    "\n",
    "_Ваша реализация может быть как с использованием рекурсии, так и без неё._"
   ]
  },
  {
   "cell_type": "code",
   "execution_count": null,
   "metadata": {},
   "outputs": [],
   "source": [
    "def get_min(tree):\n",
    "    \n",
    "    !YOUR CODE HERE\n",
    "    # if the tree has no elements return None\n",
    "    # you should start from the tree.root and then go to the minimal key in the tree\n",
    "    # return TreeNode, not only the key\n",
    "    \n",
    "    return min_node"
   ]
  },
  {
   "cell_type": "markdown",
   "metadata": {},
   "source": [
    "#### Задание 1.1 (0.5 баллов)\n",
    "\n",
    "Постройте бинарное дерево поиска и проверьте процесс получения минимального элемента в дереве. "
   ]
  },
  {
   "cell_type": "code",
   "execution_count": null,
   "metadata": {},
   "outputs": [],
   "source": [
    "!YOUR CODE HERE"
   ]
  },
  {
   "cell_type": "markdown",
   "metadata": {},
   "source": [
    "### Задание 2 (1 балл)\n",
    "\n",
    "Реализуйте функцию, которая возвращает елемент с максимальным ключом в дереве. \n",
    "\n",
    "_Ваша реализация может быть как с использованием рекурсии, так и без неё._"
   ]
  },
  {
   "cell_type": "code",
   "execution_count": null,
   "metadata": {},
   "outputs": [],
   "source": [
    "def get_max(tree):\n",
    "    \n",
    "    !YOUR CODE HERE\n",
    "    # if the tree has no elements return None\n",
    "    # you should start from the tree.root and then go to the maximal key in the tree\n",
    "    # return TreeNode, not only the key\n",
    "    \n",
    "    return max_node"
   ]
  },
  {
   "cell_type": "markdown",
   "metadata": {},
   "source": [
    "#### Задание 2.1 (0.5 баллов)\n",
    "\n",
    "Постройте бинарное дерево поиска и проверьте процесс получения максимального элемента в дереве. "
   ]
  },
  {
   "cell_type": "code",
   "execution_count": null,
   "metadata": {},
   "outputs": [],
   "source": [
    "!YOUR CODE HERE"
   ]
  },
  {
   "cell_type": "markdown",
   "metadata": {},
   "source": [
    "### Задание 3 (всего 7 баллов)\n",
    "\n",
    "Построим более практическую задачу для использования __Binary Search Tree__.\n",
    "\n",
    "Хотим структурировать хранение информации о пользователях телефонной сетью.\n",
    "\n",
    "Каждый абонент определяется уникальным ключом - номером телефона.\n",
    "В дальнейшей работе выберите удобный вам вариант представления: \n",
    "* (str) строковая переменная <span style=\"color:red\">'+7-999-888-77-66'</span>\n",
    "* (int) целочисленная переменная 89998887766 \n",
    "* или любой другой удобный вам формат)\n",
    "\n",
    "Помимо телефонного номера, необходимо хранить так же некоторую информацию о пользователе, а именно: фамилию пользователя, возраст пользователя.\n",
    "\n",
    "\n",
    "#### Задание 3.1 (1 балл)\n",
    "Постройте класс вершины дерева. Вершина должна содержать:\n",
    "1. Ключ == телефонный номер\n",
    "2. Фамилия пользователя\n",
    "3. Возраст пользователя\n",
    "4. Указатель на левого потомка\n",
    "5. Указатель на правого потомка"
   ]
  },
  {
   "cell_type": "code",
   "execution_count": null,
   "metadata": {},
   "outputs": [],
   "source": [
    "class PhoneUser(object):\n",
    "    \"\"\"\n",
    "    Phone User: left and right child + data (Surname, Age, Phone Number(key))\n",
    "    \"\"\""
   ]
  },
  {
   "cell_type": "markdown",
   "metadata": {},
   "source": [
    "#### Задание 3.2 (2 балла)\n",
    "\n",
    "Реализуйте функцию добавления элемента PhoneUser в BinarySearchTree.\n",
    "\n",
    "__На этот раз вместо ключа, функции на вход подается объект PhoneUser, который в свою очередь хранит ключ==телефонный номер__\n",
    "\n",
    "\n",
    "_Ваша реализация может быть как с использованием рекурсии, так и без неё._"
   ]
  },
  {
   "cell_type": "code",
   "execution_count": null,
   "metadata": {},
   "outputs": [],
   "source": [
    "def insert_user(tree, user):\n",
    "    \"\"\"\n",
    "    PhoneUser user: has different fields \n",
    "    \"\"\" "
   ]
  },
  {
   "cell_type": "markdown",
   "metadata": {},
   "source": [
    "#### Задание 3.3 (1 балл)\n",
    "\n",
    "Реализуйте функцию поиска элемента PhoneUser в BinarySearchTree по значению телефонного номера.\n",
    "\n",
    "\n",
    "_Ваша реализация может быть как с использованием рекурсии, так и без неё._"
   ]
  },
  {
   "cell_type": "code",
   "execution_count": null,
   "metadata": {},
   "outputs": [],
   "source": [
    "def search_user(tree, phone):\n",
    "    \"\"\"\n",
    "    Use phone as a key\n",
    "    If there is no user with this phone number in the tree, return None\n",
    "    \"\"\" \n",
    "    \n",
    "    return phone_user"
   ]
  },
  {
   "cell_type": "markdown",
   "metadata": {},
   "source": [
    "#### Задание 3.4 (2 балла)\n",
    "\n",
    "Реализуйте функцию удаления элемента PhoneUser в BinarySearchTree по значению телефонного номера.\n",
    "\n",
    "\n",
    "_Ваша реализация может быть как с использованием рекурсии, так и без неё._"
   ]
  },
  {
   "cell_type": "code",
   "execution_count": null,
   "metadata": {},
   "outputs": [],
   "source": [
    "def delete_user(tree, phone):\n",
    "    \"\"\"\n",
    "    Use phone as a key\n",
    "    \"\"\" "
   ]
  },
  {
   "cell_type": "markdown",
   "metadata": {},
   "source": [
    "#### Задание 3.5 (1 балл)\n",
    "\n",
    "Постройте дерево == телефонный справочник, продемонстрируйте процесс добавления, нахождения и удаления вершин в дереве."
   ]
  },
  {
   "cell_type": "code",
   "execution_count": null,
   "metadata": {},
   "outputs": [],
   "source": [
    "!YOUR CODE HERE"
   ]
  },
  {
   "cell_type": "markdown",
   "metadata": {},
   "source": [
    "### <span style=\"color:red\">!Бонусы</span>\n",
    "\n",
    "1. За использование визуализатора (рисование деревьев) + 0.5 баллов\n",
    "2. Использование рекурсивных реализаций + 0.5 баллов (за каждую рекурсивную реализацию функции)\n",
    "3. Предложенный (письменно) вариант практической задачи, которая требует построения бинарного дерева поиска. То есть необходимо структурировать исходные данные по уникальным ключам + 1 балл.\n",
    "4. Дополнительная реализация (как выше про телефонный справочник) вашей задачи + 1 балл. \n",
    "\n",
    "\n",
    "#### Итог:\n",
    "Основная оценка за дз - 10 баллов. \n",
    "\n",
    "Их можно набрать решив полностью основную часть или некоторой комбинацией основной части и бонусов. Бонусы, полученные сверх 10 баллов можно будет использовать для поднятия оценок за другие домашние работы.\n",
    "\n",
    "Максимальная оценки за дз - 15 баллов."
   ]
  }
 ],
 "metadata": {
  "kernelspec": {
   "display_name": "Python 3",
   "language": "python",
   "name": "python3"
  },
  "language_info": {
   "codemirror_mode": {
    "name": "ipython",
    "version": 3
   },
   "file_extension": ".py",
   "mimetype": "text/x-python",
   "name": "python",
   "nbconvert_exporter": "python",
   "pygments_lexer": "ipython3",
   "version": "3.6.5"
  }
 },
 "nbformat": 4,
 "nbformat_minor": 2
}
