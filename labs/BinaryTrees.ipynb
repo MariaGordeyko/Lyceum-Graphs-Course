{
 "cells": [
  {
   "cell_type": "markdown",
   "metadata": {},
   "source": [
    "# Реализация (просто) бинарного дерева\n",
    "\n",
    "\n",
    "### Бинарное дерево\n",
    "\n",
    "__Бинарное дерево__ - это иерархическая структура данных, в которой каждый узел имеет значение (оно же является в данном случае и ключом) и ссылки на левого и правого потомка. \n",
    "\n",
    "![Tree Structure](https://koenig-media.raywenderlich.com/uploads/2016/07/BinaryTree.png)\n",
    "\n",
    "Узел (___node___), находящийся на самом верхнем уровне (не являющийся чьим либо потомком) называется корнем (___root___). Узлы, не имеющие потомков (оба потомка которых равны NULL) называются листьями (___leaf___).\n",
    "\n",
    "\n",
    "### Класс вершины дерева\n",
    "\n",
    "Простейшая вершина бинарного дерева должна обладать следующими свойствами:\n",
    "\n",
    "1. В вершине хранится информация об объекте, который эта вершина содержит\n",
    "2. В вершине хранится информация об ее потомках (левом и правом).\n",
    "\n",
    "|<img src=\"https://koenig-media.raywenderlich.com/uploads/2016/08/BinaryTree-2.png\" width=\"300\"> |  <img src=\"https://koenig-media.raywenderlich.com/uploads/2016/08/BinaryTree-2-1.png\" width=\"300\"> |\n",
    "|:---:|:---:|\n",
    "| Левый потомок | Правый потомок|\n",
    "\n",
    "\n",
    "#### Реализуем класс вершины дерева"
   ]
  },
  {
   "cell_type": "code",
   "execution_count": 1,
   "metadata": {},
   "outputs": [],
   "source": [
    "class TreeNode(object):\n",
    "    \"\"\"\n",
    "    Tree node: left and right child + id -- number of the node\n",
    "    \"\"\"\n",
    "    def __init__(self, id_):\n",
    "        self.id = id_\n",
    "        self.left = None\n",
    "        self.right = None"
   ]
  },
  {
   "cell_type": "markdown",
   "metadata": {},
   "source": [
    "Само дерево определяется своим корнем - `root`, который хранит указатели на поддеревья.\n",
    "\n",
    "#### Реализуем класс дерева"
   ]
  },
  {
   "cell_type": "code",
   "execution_count": 2,
   "metadata": {},
   "outputs": [],
   "source": [
    "import numpy as np\n",
    "\n",
    "class BinaryTree:\n",
    "    \n",
    "    def __init__(self):\n",
    "        self.root = None\n",
    "        self.size = 0\n",
    "\n",
    "    def length(self):\n",
    "        return int(self.size)\n",
    "    \n",
    "    def insert(self, subtree, new_value):\n",
    "        if subtree is None:\n",
    "            return TreeNode(new_value)\n",
    "        if np.random.choice(['left', 'right']) == 'left':\n",
    "            subtree.left = self.insert(subtree.left, new_value)\n",
    "        else:\n",
    "            subtree.right = self.insert(subtree.right, new_value)\n",
    "        return subtree\n",
    "\n",
    "    def build_tree(self, n):\n",
    "        for i in range(n):\n",
    "            self.root = self.insert(self.root, i + 1)\n",
    "            "
   ]
  },
  {
   "cell_type": "markdown",
   "metadata": {},
   "source": [
    "Построим какое-нибудь простое дерево:"
   ]
  },
  {
   "cell_type": "code",
   "execution_count": 3,
   "metadata": {},
   "outputs": [],
   "source": [
    "from visualizer import draw_tree\n",
    "%matplotlib inline"
   ]
  },
  {
   "cell_type": "code",
   "execution_count": 4,
   "metadata": {},
   "outputs": [
    {
     "data": {
      "image/png": "[encoded data removed]",
      "text/plain": [
       "<matplotlib.figure.Figure at 0x1094908d0>"
      ]
     },
     "metadata": {},
     "output_type": "display_data"
    }
   ],
   "source": [
    "np.random.seed(51)\n",
    "tree = BinaryTree()\n",
    "tree.build_tree(7)\n",
    "\n",
    "draw_tree(tree.root, file_name='tree')"
   ]
  },
  {
   "cell_type": "code",
   "execution_count": 5,
   "metadata": {},
   "outputs": [
    {
     "data": {
      "text/plain": [
       "5"
      ]
     },
     "execution_count": 5,
     "metadata": {},
     "output_type": "execute_result"
    }
   ],
   "source": [
    "tree.root.right.right.id"
   ]
  },
  {
   "cell_type": "markdown",
   "metadata": {},
   "source": [
    "## Обходы деревьев (DFS vs. BFS)\n",
    "\n",
    "![](https://hamzic.files.wordpress.com/2016/12/fig1.gif?w=630)\n",
    "\n",
    "### Обход дерева в ширину\n",
    "\n",
    "Все достаточно просто — мы бегаем в начале по вершине-родителю, потом по всем ее потомкам, потом по всем потомкам потомков, и так далее.\n",
    "\n",
    "Алгоритм BFS:\n",
    "1. Поместить корневую вершину в изначально пустую очередь.\n",
    "2. Извлечь из начала очереди вершина $u$.\n",
    "3. В конец очереди добавляются левый и правый потомки вершины $u$, которые ещё не были посещены и отмечаются, как посещенные.\n",
    "4. Если очередь пуста, то все вершины дерева были просмотрены; завершить обход.\n",
    "5. Вернуться к п. 2.\n",
    "\n",
    "<img src=\"http://www.pvsm.ru/images/obhod-binarnyh-derevev-rekursiya-iteracii-i-ukazatel-na-roditelya.jpg\" width=\"450\"> \n",
    "\n",
    "#### Задание 1 (5 баллов)\n",
    "\n",
    "Реализовать обход бинарного дерева в ширину."
   ]
  },
  {
   "cell_type": "code",
   "execution_count": 6,
   "metadata": {},
   "outputs": [],
   "source": [
    "def TreeBFS(tree):\n",
    "    queue = []\n",
    "    \n",
    "    queue.append(tree.root)\n",
    "    \n",
    "    print (\"BFS order:\", end=' ')\n",
    "    while queue:\n",
    "        \n",
    "        u = #get top element from the queue\n",
    "        print (current.id, end=' -> ')\n",
    "        \n",
    "        # add left child if it is not None to the queue\n",
    "        \n",
    "        # add right child if it is not None to the queue\n",
    "            \n",
    "    print('end')"
   ]
  },
  {
   "cell_type": "code",
   "execution_count": 7,
   "metadata": {},
   "outputs": [
    {
     "name": "stdout",
     "output_type": "stream",
     "text": [
      "BFS order: 1 -> 2 -> 3 -> 7 -> 6 -> 4 -> 5 -> end\n"
     ]
    }
   ],
   "source": [
    "TreeBFS(tree)"
   ]
  },
  {
   "cell_type": "markdown",
   "metadata": {},
   "source": [
    "\n",
    "### Обход дерева в глубину\n",
    "\n",
    "Алгоритмы в глубь имеют три типа обходов:\n",
    "1. __Pre-order:__ Pre-order стоит использовать именно тогда, когда вы знаете что вам нужно проверить родителей перед тем как проверять их потомков.\n",
    "2. __In-order:__ In-order обход используется как раз когда нам надо проверять в начале потомков и только потом подниматься к родительским узлам.\n",
    "3. __Post-order:__ Post-order самый забавный случай — это случай когда нам нужно начать с листьев и завершить главным узлом — то есть разложить дерево на то, как оно строилось.\n",
    "\n",
    "<img src=\"http://habrastorage.org/files/654/015/a63/654015a637ab473cbbe11a1adcc993c5.png\" width=\"500\"> \n",
    "\n",
    "#### Нерекурсивная реализация\n",
    "#### Задание 2 (4 балла)\n",
    "Поменяв структуру данных, реализовать обход бинарного дерева в глубину."
   ]
  },
  {
   "cell_type": "code",
   "execution_count": 8,
   "metadata": {},
   "outputs": [],
   "source": [
    "def TreeDFS_naive(tree):\n",
    "    queue = [] \n",
    "    queue.append(tree.root)\n",
    "    \n",
    "    print (\"DFS order:\", end=' ')\n",
    "    while queue:\n",
    "        \n",
    "        u = #get back element from the queue\n",
    "        print (current.id, end=' -> ')\n",
    "        \n",
    "        # add right child if it is not None to the queue\n",
    "        \n",
    "        # add left child  it is not None to the queue\n",
    "            \n",
    "    print('end')"
   ]
  },
  {
   "cell_type": "code",
   "execution_count": 9,
   "metadata": {},
   "outputs": [
    {
     "name": "stdout",
     "output_type": "stream",
     "text": [
      "DFS order: 1 -> 2 -> 7 -> 6 -> 3 -> 4 -> 5 -> end\n"
     ]
    }
   ],
   "source": [
    "TreeDFS_naive(tree)"
   ]
  },
  {
   "cell_type": "markdown",
   "metadata": {},
   "source": [
    "#### Pекурсивная реализация\n",
    "#### БОНУС 1 (2 балла)\n",
    "Реализовать обход в глубину с помощью рекурсии."
   ]
  },
  {
   "cell_type": "code",
   "execution_count": 10,
   "metadata": {},
   "outputs": [],
   "source": [
    "def TreeDFS(tree):\n",
    "    print (tree.id, end=' -> ')\n",
    "    \n",
    "    # call DFS(left child) if it is not None and hasn't been visited to the queue and visited\n",
    "        \n",
    "    # call DFS(right child) if it is not None and hasn't been visited to the queue and visited"
   ]
  },
  {
   "cell_type": "code",
   "execution_count": 11,
   "metadata": {},
   "outputs": [
    {
     "name": "stdout",
     "output_type": "stream",
     "text": [
      "DFS order: 1 -> 2 -> 7 -> 6 -> 3 -> 4 -> 5 -> end:\n"
     ]
    }
   ],
   "source": [
    "print (\"DFS order:\", end=' ')\n",
    "TreeDFS(tree.root)\n",
    "print (\"end:\")"
   ]
  },
  {
   "cell_type": "code",
   "execution_count": 12,
   "metadata": {},
   "outputs": [
    {
     "data": {
      "image/png": "[encoded data removed]",
      "text/plain": [
       "<matplotlib.figure.Figure at 0x1093822e8>"
      ]
     },
     "metadata": {},
     "output_type": "display_data"
    }
   ],
   "source": [
    "draw_tree(tree.root, file_name='tree')"
   ]
  },
  {
   "cell_type": "markdown",
   "metadata": {},
   "source": [
    "### Какой это тип обхода?\n",
    "\n",
    "Что необходимо сделать, чтобы изменить тип обхода в дереве?\n",
    "#### Задание 3 (1 балл)\n",
    "Ответить письменно на эти вопросы: какой это тип обхода?,что необходимо сделать, чтобы изменить тип обхода в дереве?"
   ]
  },
  {
   "cell_type": "markdown",
   "metadata": {},
   "source": [
    "Ваш ответ тут: "
   ]
  },
  {
   "cell_type": "markdown",
   "metadata": {},
   "source": [
    "#### БОНУС 2 (1 балл)\n",
    "Реализовать два других способа обхода дерева в глубину."
   ]
  },
  {
   "cell_type": "code",
   "execution_count": 13,
   "metadata": {},
   "outputs": [],
   "source": [
    "def TreeDFS_1(tree):\n",
    "    !YOUR CODE HERE"
   ]
  },
  {
   "cell_type": "code",
   "execution_count": 14,
   "metadata": {},
   "outputs": [
    {
     "name": "stdout",
     "output_type": "stream",
     "text": [
      "DFS order: 7 -> 6 -> 2 -> 4 -> 5 -> 3 -> 1 -> end:\n"
     ]
    }
   ],
   "source": [
    "print (\"DFS order:\", end=' ')\n",
    "TreeDFS_1(tree.root)\n",
    "print (\"end:\")"
   ]
  },
  {
   "cell_type": "code",
   "execution_count": 15,
   "metadata": {},
   "outputs": [],
   "source": [
    "def TreeDFS_2(tree):\n",
    "    !YOUR CODE HERE"
   ]
  },
  {
   "cell_type": "code",
   "execution_count": 16,
   "metadata": {},
   "outputs": [
    {
     "name": "stdout",
     "output_type": "stream",
     "text": [
      "DFS order: 7 -> 2 -> 6 -> 1 -> 4 -> 3 -> 5 -> end:\n"
     ]
    }
   ],
   "source": [
    "print (\"DFS order:\", end=' ')\n",
    "TreeDFS_2(tree.root)\n",
    "print (\"end:\")"
   ]
  }
 ],
 "metadata": {
  "kernelspec": {
   "display_name": "Python 3",
   "language": "python",
   "name": "python3"
  },
  "language_info": {
   "codemirror_mode": {
    "name": "ipython",
    "version": 3
   },
   "file_extension": ".py",
   "mimetype": "text/x-python",
   "name": "python",
   "nbconvert_exporter": "python",
   "pygments_lexer": "ipython3",
   "version": "3.6.5"
  }
 },
 "nbformat": 4,
 "nbformat_minor": 2
}
