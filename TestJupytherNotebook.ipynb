{
 "cells": [
  {
   "cell_type": "markdown",
   "metadata": {},
   "source": [
    "## Тестовая тетрадка\n",
    "\n",
    "Необходимо проверить, что все ячейки данной тетрадки у вас запускаются"
   ]
  },
  {
   "cell_type": "code",
   "execution_count": 1,
   "metadata": {},
   "outputs": [],
   "source": [
    "import pygraphviz\n",
    "import matplotlib"
   ]
  },
  {
   "cell_type": "markdown",
   "metadata": {},
   "source": [
    "Если на данном этапе что-то сломалось, значит вы не устанавливали отдельно требуемые библиотеки: [matplotlib](https://matplotlib.org/users/installing.html) и [pygraphviz](). В этом случае (__только в этом случае__) запустите следующие 2 ячейки, предварительно у вас должен быть установлен `python3` и `pip3` или `conda`)\n",
    "\n",
    "Eсли `conda`, то "
   ]
  },
  {
   "cell_type": "code",
   "execution_count": null,
   "metadata": {},
   "outputs": [],
   "source": [
    "!conda install -c anaconda matplotlib\n",
    "!conda install -c anaconda graphviz"
   ]
  },
  {
   "cell_type": "markdown",
   "metadata": {},
   "source": [
    "Если `pip3` (соответственно если у вас `pip`, убрать циферку 3 и запустить), то "
   ]
  },
  {
   "cell_type": "code",
   "execution_count": null,
   "metadata": {},
   "outputs": [],
   "source": [
    "!pip3 install matplotlib\n",
    "!pip3 install pygraphviz"
   ]
  },
  {
   "cell_type": "markdown",
   "metadata": {},
   "source": [
    " Проверяем успешность:"
   ]
  },
  {
   "cell_type": "code",
   "execution_count": 2,
   "metadata": {},
   "outputs": [],
   "source": [
    "import pygraphviz\n",
    "import matplotlib"
   ]
  },
  {
   "cell_type": "markdown",
   "metadata": {},
   "source": [
    "Теперь, когда пакеты установлены, можно отдохнуть и посмотреть картиночки\n",
    "<img src=\"https://ieltswithmelinda.files.wordpress.com/2015/05/meme4.png\" width=\"600\">"
   ]
  },
  {
   "cell_type": "code",
   "execution_count": 3,
   "metadata": {},
   "outputs": [
    {
     "name": "stderr",
     "output_type": "stream",
     "text": [
      "/usr/local/lib/python3.6/site-packages/ipykernel_launcher.py:8: RuntimeWarning: invalid value encountered in sqrt\n",
      "  \n",
      "/usr/local/lib/python3.6/site-packages/ipykernel_launcher.py:9: RuntimeWarning: invalid value encountered in sqrt\n",
      "  if __name__ == '__main__':\n",
      "/usr/local/lib/python3.6/site-packages/ipykernel_launcher.py:10: RuntimeWarning: invalid value encountered in sqrt\n",
      "  # Remove the CWD from sys.path while we load stuff.\n",
      "/usr/local/lib/python3.6/site-packages/ipykernel_launcher.py:11: RuntimeWarning: invalid value encountered in sqrt\n",
      "  # This is added back by InteractiveShellApp.init_path()\n",
      "/usr/local/lib/python3.6/site-packages/ipykernel_launcher.py:12: RuntimeWarning: invalid value encountered in sqrt\n",
      "  if sys.path[0] == '':\n",
      "/usr/local/lib/python3.6/site-packages/ipykernel_launcher.py:13: RuntimeWarning: invalid value encountered in sqrt\n",
      "  del sys.path[0]\n"
     ]
    },
    {
     "data": {
      "image/png": "[encoded data removed]",
      "text/plain": [
       "<matplotlib.figure.Figure at 0x1056bdd30>"
      ]
     },
     "metadata": {},
     "output_type": "display_data"
    }
   ],
   "source": [
    "import matplotlib.pyplot as plt\n",
    "from numpy import sqrt, meshgrid, arange\n",
    "\n",
    "xs = arange(-7.25, 7.25, 0.01)\n",
    "ys = arange(-5, 5, 0.01)\n",
    "x, y = meshgrid(xs, ys)\n",
    "\n",
    "eq1 = ((x/7)**2*sqrt(abs(abs(x)-3)/(abs(x)-3))+(y/3)**2*sqrt(abs(y+3/7*sqrt(33))/(y+3/7*sqrt(33)))-1)\n",
    "eq2 = (abs(x/2)-((3*sqrt(33)-7)/112)*x**2-3+sqrt(1-(abs(abs(x)-2)-1)**2)-y)\n",
    "eq3 = (9*sqrt(abs((abs(x)-1)*(abs(x)-.75))/((1-abs(x))*(abs(x)-.75)))-8*abs(x)-y)\n",
    "eq4 = (3*abs(x)+.75*sqrt(abs((abs(x)-.75)*(abs(x)-.5))/((.75-abs(x))*(abs(x)-.5)))-y)\n",
    "eq5 = (2.25*sqrt(abs((x-.5)*(x+.5))/((.5-x)*(.5+x)))-y)\n",
    "eq6 = (6*sqrt(10)/7+(1.5-.5*abs(x))*sqrt(abs(abs(x)-1)/(abs(x)-1))-(6*sqrt(10)/14)*sqrt(4-(abs(x)-1)**2)-y)\n",
    "\n",
    "for f in [eq1,eq2,eq3,eq4,eq5,eq6]:\n",
    "    plt.contour(x, y, f, [0])\n",
    "\n",
    "plt.show()"
   ]
  },
  {
   "cell_type": "code",
   "execution_count": 4,
   "metadata": {},
   "outputs": [],
   "source": [
    "import pygraphviz as pgv\n",
    "import matplotlib.pyplot as plt\n",
    "import matplotlib.image as mpimg\n",
    "%matplotlib inline"
   ]
  },
  {
   "cell_type": "code",
   "execution_count": 5,
   "metadata": {},
   "outputs": [],
   "source": [
    "from collections import defaultdict\n",
    "\n",
    "class Graph:\n",
    "    \"\"\"\n",
    "    Graph class represents a directed graph using adjacency list representation\n",
    "    \"\"\"\n",
    "    def __init__(self):\n",
    "        self.graph = defaultdict(list)\n",
    "        self.verticies = 0\n",
    "        \n",
    "    def length(self):\n",
    "        return self.verticies\n",
    "    \n",
    "    def getEdges(self, u):\n",
    "        return self.graph[u]\n",
    " \n",
    "    def addEdge(self, u, v):\n",
    "        self.verticies = max(self.verticies, u + 1, v + 1)\n",
    "        self.graph[u].append(v)"
   ]
  },
  {
   "cell_type": "code",
   "execution_count": 6,
   "metadata": {},
   "outputs": [],
   "source": [
    "def draw_graph(graph, directed=True, file_name='graph'):\n",
    "    draw_graph = pgv.AGraph(directed=directed)\n",
    "    for v in range(1, graph.length()):\n",
    "        draw_graph.add_node(str(v))\n",
    "        for u in graph.getEdges(v):\n",
    "            draw_graph.add_edge(str(v), str(u))\n",
    "\n",
    "    draw_graph.write('test.dot')\n",
    "    \n",
    "    draw_graph.layout(prog='dot') # use dot\n",
    "    draw_graph.draw(file_name + '.png')\n",
    "    img=mpimg.imread(file_name + '.png')\n",
    "    plt.figure(figsize=(6, 6))\n",
    "    plt.imshow(img)"
   ]
  },
  {
   "cell_type": "code",
   "execution_count": 7,
   "metadata": {},
   "outputs": [],
   "source": [
    "simple_graph = Graph()\n",
    "simple_graph.addEdge(1, 2)\n",
    "simple_graph.addEdge(1, 4)\n",
    "simple_graph.addEdge(4, 1)\n",
    "simple_graph.addEdge(2, 4)\n",
    "simple_graph.addEdge(4, 3)\n",
    "simple_graph.addEdge(2, 3)\n",
    "simple_graph.addEdge(3, 2)"
   ]
  },
  {
   "cell_type": "code",
   "execution_count": 8,
   "metadata": {},
   "outputs": [
    {
     "data": {
      "image/png": "[encoded data removed]",
      "text/plain": [
       "<matplotlib.figure.Figure at 0x10a522f98>"
      ]
     },
     "metadata": {},
     "output_type": "display_data"
    }
   ],
   "source": [
    "draw_graph(simple_graph, file_name='simple_graph')"
   ]
  },
  {
   "cell_type": "markdown",
   "metadata": {},
   "source": [
    "## CONGRATS !!!"
   ]
  }
 ],
 "metadata": {
  "kernelspec": {
   "display_name": "Python 3",
   "language": "python",
   "name": "python3"
  },
  "language_info": {
   "codemirror_mode": {
    "name": "ipython",
    "version": 3
   },
   "file_extension": ".py",
   "mimetype": "text/x-python",
   "name": "python",
   "nbconvert_exporter": "python",
   "pygments_lexer": "ipython3",
   "version": "3.6.5"
  }
 },
 "nbformat": 4,
 "nbformat_minor": 2
}
